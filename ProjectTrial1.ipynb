{
  "cells": [
    {
      "cell_type": "code",
      "execution_count": 2,
      "metadata": {
        "colab": {
          "base_uri": "https://localhost:8080/"
        },
        "id": "7KBpc3rujn9_",
        "outputId": "1ad1d170-0820-4f84-a425-222e2857f89f"
      },
      "outputs": [
        {
          "name": "stdout",
          "output_type": "stream",
          "text": [
            "Requirement already satisfied: pandas in /Library/Frameworks/Python.framework/Versions/3.12/lib/python3.12/site-packages (2.2.3)\n",
            "Requirement already satisfied: scikit-learn in /Library/Frameworks/Python.framework/Versions/3.12/lib/python3.12/site-packages (1.6.1)\n",
            "Requirement already satisfied: numpy>=1.26.0 in /Library/Frameworks/Python.framework/Versions/3.12/lib/python3.12/site-packages (from pandas) (2.2.5)\n",
            "Requirement already satisfied: python-dateutil>=2.8.2 in /Users/ishansingh/Library/Python/3.12/lib/python/site-packages (from pandas) (2.9.0.post0)\n",
            "Requirement already satisfied: pytz>=2020.1 in /Library/Frameworks/Python.framework/Versions/3.12/lib/python3.12/site-packages (from pandas) (2025.2)\n",
            "Requirement already satisfied: tzdata>=2022.7 in /Library/Frameworks/Python.framework/Versions/3.12/lib/python3.12/site-packages (from pandas) (2025.2)\n",
            "Requirement already satisfied: scipy>=1.6.0 in /Library/Frameworks/Python.framework/Versions/3.12/lib/python3.12/site-packages (from scikit-learn) (1.15.2)\n",
            "Requirement already satisfied: joblib>=1.2.0 in /Library/Frameworks/Python.framework/Versions/3.12/lib/python3.12/site-packages (from scikit-learn) (1.4.2)\n",
            "Requirement already satisfied: threadpoolctl>=3.1.0 in /Library/Frameworks/Python.framework/Versions/3.12/lib/python3.12/site-packages (from scikit-learn) (3.6.0)\n",
            "Requirement already satisfied: six>=1.5 in /Users/ishansingh/Library/Python/3.12/lib/python/site-packages (from python-dateutil>=2.8.2->pandas) (1.17.0)\n",
            "Note: you may need to restart the kernel to use updated packages.\n"
          ]
        }
      ],
      "source": [
        "pip install pandas scikit-learn"
      ]
    },
    {
      "cell_type": "code",
      "execution_count": 3,
      "metadata": {
        "id": "WkKm0MrmlfMQ"
      },
      "outputs": [],
      "source": [
        "import pandas as pd\n",
        "from sklearn.metrics.pairwise import cosine_similarity\n",
        "from sklearn.impute import SimpleImputer\n",
        "import numpy as np"
      ]
    },
    {
      "cell_type": "code",
      "execution_count": 5,
      "metadata": {
        "colab": {
          "base_uri": "https://localhost:8080/",
          "height": 104
        },
        "id": "1Z-Bcvy5lE1h",
        "outputId": "cd905222-b855-4bbf-d055-95886d0fbd06"
      },
      "outputs": [
        {
          "ename": "ModuleNotFoundError",
          "evalue": "No module named 'google'",
          "output_type": "error",
          "traceback": [
            "\u001b[0;31m---------------------------------------------------------------------------\u001b[0m",
            "\u001b[0;31mModuleNotFoundError\u001b[0m                       Traceback (most recent call last)",
            "Cell \u001b[0;32mIn[5], line 1\u001b[0m\n\u001b[0;32m----> 1\u001b[0m \u001b[38;5;28;01mfrom\u001b[39;00m\u001b[38;5;250m \u001b[39m\u001b[38;5;21;01mgoogle\u001b[39;00m\u001b[38;5;21;01m.\u001b[39;00m\u001b[38;5;21;01mcolab\u001b[39;00m\u001b[38;5;250m \u001b[39m\u001b[38;5;28;01mimport\u001b[39;00m files\n\u001b[1;32m      2\u001b[0m uploaded \u001b[38;5;241m=\u001b[39m files\u001b[38;5;241m.\u001b[39mupload()\n",
            "\u001b[0;31mModuleNotFoundError\u001b[0m: No module named 'google'"
          ]
        }
      ],
      "source": [
        "import pandas as pd\n",
        "\n",
        "ratings = pd.read_csv(\"ratings.csv\")\n",
        "movies = pd.read_csv(\"movies.csv\")"
      ]
    },
    {
      "cell_type": "code",
      "execution_count": 24,
      "metadata": {
        "id": "41JrR3xsm3gI"
      },
      "outputs": [],
      "source": [
        "import pandas as pd\n",
        "\n",
        "ratings = pd.read_csv(\"ratings.csv\")\n",
        "movies = pd.read_csv(\"movies.csv\")"
      ]
    },
    {
      "cell_type": "code",
      "execution_count": 25,
      "metadata": {
        "id": "_2qCDRtSm68_"
      },
      "outputs": [],
      "source": [
        "# Create a user-item matrix\n",
        "user_movie_matrix = ratings.pivot_table(index='userId', columns='movieId', values='rating')"
      ]
    },
    {
      "cell_type": "code",
      "execution_count": 26,
      "metadata": {
        "id": "OlYAP82xnCWF"
      },
      "outputs": [],
      "source": [
        "# Fill NaNs with 0s (or use imputation strategy)\n",
        "imputer = SimpleImputer(strategy='constant', fill_value=0)\n",
        "user_movie_filled = pd.DataFrame(imputer.fit_transform(user_movie_matrix),\n",
        "                                 index=user_movie_matrix.index,\n",
        "                                 columns=user_movie_matrix.columns)"
      ]
    },
    {
      "cell_type": "code",
      "execution_count": 27,
      "metadata": {
        "id": "h2MT9uWDnGoU"
      },
      "outputs": [],
      "source": [
        "# Compute cosine similarity between users\n",
        "user_similarity = cosine_similarity(user_movie_filled)\n",
        "user_similarity_df = pd.DataFrame(user_similarity, index=user_movie_matrix.index, columns=user_movie_matrix.index)"
      ]
    },
    {
      "cell_type": "code",
      "execution_count": 28,
      "metadata": {
        "id": "cYfSIY1UnNVr"
      },
      "outputs": [],
      "source": [
        "# Function to get recommendations\n",
        "def get_knn_recommendations(user_id, num_neighbors=5, num_recommendations=5):\n",
        "    if user_id not in user_similarity_df.index:\n",
        "        return []"
      ]
    },
    {
      "cell_type": "code",
      "execution_count": 29,
      "metadata": {
        "id": "Z67Q4Hb9ne76"
      },
      "outputs": [],
      "source": [
        "def get_knn_recommendations(user_id, num_neighbors=5, num_recommendations=5):\n",
        "    if user_id not in user_similarity_df.index:\n",
        "        return []\n",
        "\n",
        "    # Get similarity scores for this user\n",
        "    similar_users = user_similarity_df[user_id].sort_values(ascending=False)\n",
        "    similar_users = similar_users.drop(user_id)  # Remove self\n",
        "    top_users = similar_users.head(num_neighbors).index\n",
        "\n",
        "    # Get movies rated by similar users\n",
        "    similar_users_ratings = user_movie_matrix.loc[top_users]\n",
        "\n",
        "    # Average the ratings from neighbors\n",
        "    avg_ratings = similar_users_ratings.mean(axis=0)\n",
        "\n",
        "    # Drop movies the target user has already rated\n",
        "    watched = user_movie_matrix.loc[user_id].dropna().index\n",
        "    avg_ratings = avg_ratings.drop(watched, errors='ignore')\n",
        "\n",
        "    # Get top N recommendations\n",
        "    top_movie_ids = avg_ratings.sort_values(ascending=False).head(num_recommendations).index\n",
        "\n",
        "    # Map movie IDs to titles\n",
        "    recommended_titles = movies[movies['movieId'].isin(top_movie_ids)]['title'].values.tolist()\n",
        "    return recommended_titles"
      ]
    },
    {
      "cell_type": "code",
      "execution_count": 32,
      "metadata": {
        "colab": {
          "base_uri": "https://localhost:8080/"
        },
        "id": "vr6FTMkXngm-",
        "outputId": "c54e7b92-3975-4137-adc9-2ff89e26a042"
      },
      "outputs": [
        {
          "name": "stdout",
          "output_type": "stream",
          "text": [
            "\n",
            "Top recommendations for User 1:\n",
            "1. Spawn (1997)\n",
            "2. Stripes (1981)\n",
            "3. Pirates of the Caribbean: The Curse of the Black Pearl (2003)\n",
            "4. Tremors (1990)\n",
            "5. Ginger Snaps (2000)\n",
            "\n",
            "Top recommendations for User 2:\n",
            "1. Seven (a.k.a. Se7en) (1995)\n",
            "2. Pulp Fiction (1994)\n",
            "3. Eyes Wide Shut (1999)\n",
            "4. Donnie Darko (2001)\n",
            "5. Vanilla Sky (2001)\n",
            "\n",
            "Top recommendations for User 3:\n",
            "1. Suspiria (1977)\n",
            "2. Andromeda Strain, The (1971)\n",
            "3. All the President's Men (1976)\n",
            "4. Alexander Nevsky (Aleksandr Nevskiy) (1938)\n",
            "5. Avengers, The (2012)\n"
          ]
        }
      ],
      "source": [
        "user_ids = [1, 2, 3]\n",
        "for uid in user_ids:\n",
        "    recs = get_knn_recommendations(uid)\n",
        "    print(f\"\\nTop recommendations for User {uid}:\")\n",
        "    for i, title in enumerate(recs, 1):\n",
        "        print(f\"{i}. {title}\")\n"
      ]
    }
  ],
  "metadata": {
    "colab": {
      "provenance": []
    },
    "kernelspec": {
      "display_name": "Python 3",
      "name": "python3"
    },
    "language_info": {
      "codemirror_mode": {
        "name": "ipython",
        "version": 3
      },
      "file_extension": ".py",
      "mimetype": "text/x-python",
      "name": "python",
      "nbconvert_exporter": "python",
      "pygments_lexer": "ipython3",
      "version": "3.12.4"
    }
  },
  "nbformat": 4,
  "nbformat_minor": 0
}
