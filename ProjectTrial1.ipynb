{
  "cells": [
    {
      "cell_type": "code",
      "execution_count": 2,
      "metadata": {
        "colab": {
          "base_uri": "https://localhost:8080/"
        },
        "id": "7KBpc3rujn9_",
        "outputId": "1ad1d170-0820-4f84-a425-222e2857f89f"
      },
      "outputs": [
        {
          "name": "stdout",
          "output_type": "stream",
          "text": [
            "Requirement already satisfied: pandas in /Library/Frameworks/Python.framework/Versions/3.12/lib/python3.12/site-packages (2.2.3)\n",
            "Requirement already satisfied: scikit-learn in /Library/Frameworks/Python.framework/Versions/3.12/lib/python3.12/site-packages (1.6.1)\n",
            "Requirement already satisfied: numpy>=1.26.0 in /Library/Frameworks/Python.framework/Versions/3.12/lib/python3.12/site-packages (from pandas) (2.2.5)\n",
            "Requirement already satisfied: python-dateutil>=2.8.2 in /Users/ishansingh/Library/Python/3.12/lib/python/site-packages (from pandas) (2.9.0.post0)\n",
            "Requirement already satisfied: pytz>=2020.1 in /Library/Frameworks/Python.framework/Versions/3.12/lib/python3.12/site-packages (from pandas) (2025.2)\n",
            "Requirement already satisfied: tzdata>=2022.7 in /Library/Frameworks/Python.framework/Versions/3.12/lib/python3.12/site-packages (from pandas) (2025.2)\n",
            "Requirement already satisfied: scipy>=1.6.0 in /Library/Frameworks/Python.framework/Versions/3.12/lib/python3.12/site-packages (from scikit-learn) (1.15.2)\n",
            "Requirement already satisfied: joblib>=1.2.0 in /Library/Frameworks/Python.framework/Versions/3.12/lib/python3.12/site-packages (from scikit-learn) (1.4.2)\n",
            "Requirement already satisfied: threadpoolctl>=3.1.0 in /Library/Frameworks/Python.framework/Versions/3.12/lib/python3.12/site-packages (from scikit-learn) (3.6.0)\n",
            "Requirement already satisfied: six>=1.5 in /Users/ishansingh/Library/Python/3.12/lib/python/site-packages (from python-dateutil>=2.8.2->pandas) (1.17.0)\n",
            "Note: you may need to restart the kernel to use updated packages.\n"
          ]
        }
      ],
      "source": [
        "pip install pandas scikit-learn"
      ]
    },
    {
      "cell_type": "code",
      "execution_count": 3,
      "metadata": {
        "id": "WkKm0MrmlfMQ"
      },
      "outputs": [],
      "source": [
        "import pandas as pd\n",
        "from sklearn.metrics.pairwise import cosine_similarity\n",
        "from sklearn.impute import SimpleImputer\n",
        "import numpy as np"
      ]
    },
    {
      "cell_type": "code",
      "execution_count": 4,
      "metadata": {
        "id": "41JrR3xsm3gI"
      },
      "outputs": [],
      "source": [
        "import pandas as pd\n",
        "\n",
        "ratings = pd.read_csv(\"ratings.csv\")\n",
        "movies = pd.read_csv(\"movies.csv\")"
      ]
    },
    {
      "cell_type": "code",
      "execution_count": 5,
      "metadata": {
        "id": "_2qCDRtSm68_"
      },
      "outputs": [],
      "source": [
        "# Create a user-item matrix\n",
        "user_movie_matrix = ratings.pivot_table(index='userId', columns='movieId', values='rating')"
      ]
    },
    {
      "cell_type": "code",
      "execution_count": 6,
      "metadata": {
        "id": "OlYAP82xnCWF"
      },
      "outputs": [],
      "source": [
        "# Fill NaNs with 0s (or use imputation strategy)\n",
        "imputer = SimpleImputer(strategy='constant', fill_value=0)\n",
        "user_movie_filled = pd.DataFrame(imputer.fit_transform(user_movie_matrix),\n",
        "                                 index=user_movie_matrix.index,\n",
        "                                 columns=user_movie_matrix.columns)"
      ]
    },
    {
      "cell_type": "code",
      "execution_count": 7,
      "metadata": {
        "id": "h2MT9uWDnGoU"
      },
      "outputs": [],
      "source": [
        "# Compute cosine similarity between users\n",
        "user_similarity = cosine_similarity(user_movie_filled)\n",
        "user_similarity_df = pd.DataFrame(user_similarity, index=user_movie_matrix.index, columns=user_movie_matrix.index)"
      ]
    },
    {
      "cell_type": "code",
      "execution_count": 8,
      "metadata": {
        "id": "cYfSIY1UnNVr"
      },
      "outputs": [],
      "source": [
        "# Function to get recommendations\n",
        "def get_knn_recommendations(user_id, num_neighbors=5, num_recommendations=5):\n",
        "    if user_id not in user_similarity_df.index:\n",
        "        return []"
      ]
    },
    {
      "cell_type": "code",
      "execution_count": 9,
      "metadata": {
        "id": "Z67Q4Hb9ne76"
      },
      "outputs": [],
      "source": [
        "def get_knn_recommendations(user_id, num_neighbors=5, num_recommendations=5):\n",
        "    if user_id not in user_similarity_df.index:\n",
        "        return []\n",
        "\n",
        "    # Get similarity scores for this user\n",
        "    similar_users = user_similarity_df[user_id].sort_values(ascending=False)\n",
        "    similar_users = similar_users.drop(user_id)  # Remove self\n",
        "    top_users = similar_users.head(num_neighbors).index\n",
        "\n",
        "    # Get movies rated by similar users\n",
        "    similar_users_ratings = user_movie_matrix.loc[top_users]\n",
        "\n",
        "    # Average the ratings from neighbors\n",
        "    avg_ratings = similar_users_ratings.mean(axis=0)\n",
        "\n",
        "    # Drop movies the target user has already rated\n",
        "    watched = user_movie_matrix.loc[user_id].dropna().index\n",
        "    avg_ratings = avg_ratings.drop(watched, errors='ignore')\n",
        "\n",
        "    # Get top N recommendations\n",
        "    top_movie_ids = avg_ratings.sort_values(ascending=False).head(num_recommendations).index\n",
        "\n",
        "    # Map movie IDs to titles\n",
        "    recommended_titles = movies[movies['movieId'].isin(top_movie_ids)]['title'].values.tolist()\n",
        "    return recommended_titles"
      ]
    },
    {
      "cell_type": "code",
      "execution_count": 10,
      "metadata": {
        "colab": {
          "base_uri": "https://localhost:8080/"
        },
        "id": "vr6FTMkXngm-",
        "outputId": "c54e7b92-3975-4137-adc9-2ff89e26a042"
      },
      "outputs": [
        {
          "name": "stdout",
          "output_type": "stream",
          "text": [
            "\n",
            "Top recommendations for User 1:\n",
            "1. Life Is Beautiful (La Vita è bella) (1997)\n",
            "2. Name of the Rose, The (Name der Rose, Der) (1986)\n",
            "3. High Plains Drifter (1973)\n",
            "4. Black Hawk Down (2001)\n",
            "5. Brotherhood of the Wolf (Pacte des loups, Le) (2001)\n",
            "\n",
            "Top recommendations for User 2:\n",
            "1. Eyes Wide Shut (1999)\n",
            "2. Pursuit of Happyness, The (2006)\n",
            "3. Prestige, The (2006)\n",
            "4. Limitless (2011)\n",
            "5. Intouchables (2011)\n",
            "\n",
            "Top recommendations for User 3:\n",
            "1. 12 Angry Men (1957)\n",
            "2. Lawrence of Arabia (1962)\n",
            "3. Full Metal Jacket (1987)\n",
            "4. Bug's Life, A (1998)\n",
            "5. Emperor's New Groove, The (2000)\n"
          ]
        }
      ],
      "source": [
        "user_ids = [1, 2, 3]\n",
        "for uid in user_ids:\n",
        "    recs = get_knn_recommendations(uid)\n",
        "    print(f\"\\nTop recommendations for User {uid}:\")\n",
        "    for i, title in enumerate(recs, 1):\n",
        "        print(f\"{i}. {title}\")\n"
      ]
    }
  ],
  "metadata": {
    "colab": {
      "provenance": []
    },
    "kernelspec": {
      "display_name": "Python 3",
      "name": "python3"
    },
    "language_info": {
      "codemirror_mode": {
        "name": "ipython",
        "version": 3
      },
      "file_extension": ".py",
      "mimetype": "text/x-python",
      "name": "python",
      "nbconvert_exporter": "python",
      "pygments_lexer": "ipython3",
      "version": "3.12.4"
    }
  },
  "nbformat": 4,
  "nbformat_minor": 0
}
